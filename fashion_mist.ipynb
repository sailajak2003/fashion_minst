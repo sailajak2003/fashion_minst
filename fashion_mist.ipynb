{
  "nbformat": 4,
  "nbformat_minor": 0,
  "metadata": {
    "colab": {
      "name": "fashion_mist.ipynb",
      "provenance": [],
      "authorship_tag": "ABX9TyPYyfwgi3r8J2d+f/MmNn3H"
    },
    "kernelspec": {
      "name": "python3",
      "display_name": "Python 3"
    }
  },
  "cells": [
    {
      "cell_type": "code",
      "metadata": {
        "id": "wdpV6igi1uJJ",
        "colab_type": "code",
        "colab": {
          "base_uri": "https://localhost:8080/",
          "height": 70
        },
        "outputId": "e7967a32-f2af-4262-f50c-3c7ab247903e"
      },
      "source": [
        "import numpy as np\n",
        "import pandas as pd\n",
        "import matplotlib.pyplot as plt\n",
        "%matplotlib inline\n",
        "import seaborn as sns\n",
        "\n",
        "import tensorflow as tf\n",
        "import tensorflow.keras as keras\n",
        "from tensorflow.keras.models import Sequential\n",
        "from tensorflow.keras.layers import Flatten,Conv2D,MaxPool2D,Dense"
      ],
      "execution_count": 1,
      "outputs": [
        {
          "output_type": "stream",
          "text": [
            "/usr/local/lib/python3.6/dist-packages/statsmodels/tools/_testing.py:19: FutureWarning: pandas.util.testing is deprecated. Use the functions in the public API at pandas.testing instead.\n",
            "  import pandas.util.testing as tm\n"
          ],
          "name": "stderr"
        }
      ]
    },
    {
      "cell_type": "code",
      "metadata": {
        "id": "EJXRPllO1yhm",
        "colab_type": "code",
        "colab": {}
      },
      "source": [
        "fashion_mnist=tf.keras.datasets.fashion_mnist"
      ],
      "execution_count": 2,
      "outputs": []
    },
    {
      "cell_type": "code",
      "metadata": {
        "id": "wkt7GdtI14Yb",
        "colab_type": "code",
        "colab": {}
      },
      "source": [
        "(train_img,train_label),(test_img,test_label)=fashion_mnist.load_data()"
      ],
      "execution_count": null,
      "outputs": []
    }
  ]
}