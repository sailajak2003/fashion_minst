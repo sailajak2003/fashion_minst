{
  "nbformat": 4,
  "nbformat_minor": 0,
  "metadata": {
    "colab": {
      "name": "Fashion_minst_AutoEncoder.ipynb",
      "provenance": [],
      "authorship_tag": "ABX9TyMwrbCeIekXdRMgFevzLf6H"
    },
    "kernelspec": {
      "name": "python3",
      "display_name": "Python 3"
    }
  },
  "cells": [
    {
      "cell_type": "code",
      "metadata": {
        "id": "VC2GrP5Xp3Ze"
      },
      "source": [
        "import tensorflow as tf\n",
        "import matplotlib.pyplot as plt\n",
        "%matplotlib inline"
      ],
      "execution_count": 1,
      "outputs": []
    },
    {
      "cell_type": "code",
      "metadata": {
        "id": "YZ2idd7CqGiJ"
      },
      "source": [
        "def plot_image(image):\n",
        "  plt.imshow(image,cmap='binary')\n",
        "  plt.axis('off')"
      ],
      "execution_count": 2,
      "outputs": []
    },
    {
      "cell_type": "code",
      "metadata": {
        "id": "Q5SEXcJ_q0O-"
      },
      "source": [
        "def show_reconstuctions(model, n_images=5):\n",
        "  reconstructions = model.predict(X_valid[:n_images])\n",
        "  fig = plt.figure(figsize=(n_images*1.5,3))\n",
        "\n",
        "  for image_index in range(n_images):\n",
        "    #Original Images\n",
        "    plt.subplot(2,n_images,1+image_index)\n",
        "    plot_image(X_valid[image_index])\n",
        "    #Reconstructed Images\n",
        "    plt.subplot(2,n_images,1+n_images+image_index)\n",
        "    plot_image(reconstructions[image_index])"
      ],
      "execution_count": 3,
      "outputs": []
    },
    {
      "cell_type": "code",
      "metadata": {
        "id": "PbqfyGVsrKdT"
      },
      "source": [
        "encoder_stack = tf.keras.models.Sequential([\n",
        "                tf.keras.layers.Flatten(input_shape=[28,28]),\n",
        "                tf.keras.layers.Dense(100,activation='relu'),\n",
        "                tf.keras.layers.Dense(30,activation='relu')\n",
        "             ])"
      ],
      "execution_count": 4,
      "outputs": []
    },
    {
      "cell_type": "code",
      "metadata": {
        "id": "uRO1EkpPrht6"
      },
      "source": [
        "decoder_stack = tf.keras.models.Sequential([\n",
        "                tf.keras.layers.Dense(100,activation='relu',input_shape=[30]),\n",
        "                tf.keras.layers.Dense(28*28,activation='sigmoid'),\n",
        "                tf.keras.layers.Reshape([28,28])\n",
        "             ])"
      ],
      "execution_count": 5,
      "outputs": []
    },
    {
      "cell_type": "code",
      "metadata": {
        "id": "QpNfueadr2eB"
      },
      "source": [
        "AE = tf.keras.models.Sequential([encoder_stack,decoder_stack])\n",
        "AE.compile(loss='binary_crossentropy',optimizer='adam')"
      ],
      "execution_count": 6,
      "outputs": []
    },
    {
      "cell_type": "code",
      "metadata": {
        "id": "TU_LkbYMr2_v",
        "colab": {
          "base_uri": "https://localhost:8080/"
        },
        "outputId": "df06bf46-976a-4f0e-e740-2057c49755ea"
      },
      "source": [
        "#Load Dataset\n",
        "mnist = tf.keras.datasets.fashion_mnist\n",
        "(training_images, training_labels), (test_images, test_labels) = mnist.load_data()\n",
        "\n",
        "#Scale\n",
        "X_train=training_images / 255.0\n",
        "X_valid=test_images/255.0"
      ],
      "execution_count": 7,
      "outputs": [
        {
          "output_type": "stream",
          "text": [
            "Downloading data from https://storage.googleapis.com/tensorflow/tf-keras-datasets/train-labels-idx1-ubyte.gz\n",
            "32768/29515 [=================================] - 0s 0us/step\n",
            "Downloading data from https://storage.googleapis.com/tensorflow/tf-keras-datasets/train-images-idx3-ubyte.gz\n",
            "26427392/26421880 [==============================] - 0s 0us/step\n",
            "Downloading data from https://storage.googleapis.com/tensorflow/tf-keras-datasets/t10k-labels-idx1-ubyte.gz\n",
            "8192/5148 [===============================================] - 0s 0us/step\n",
            "Downloading data from https://storage.googleapis.com/tensorflow/tf-keras-datasets/t10k-images-idx3-ubyte.gz\n",
            "4423680/4422102 [==============================] - 0s 0us/step\n"
          ],
          "name": "stdout"
        }
      ]
    },
    {
      "cell_type": "code",
      "metadata": {
        "colab": {
          "base_uri": "https://localhost:8080/"
        },
        "id": "pdoZeUwX2PTg",
        "outputId": "fdb5d8ce-4c8a-466e-91fb-5690126d8420"
      },
      "source": [
        "AE.summary()"
      ],
      "execution_count": 8,
      "outputs": [
        {
          "output_type": "stream",
          "text": [
            "Model: \"sequential_2\"\n",
            "_________________________________________________________________\n",
            "Layer (type)                 Output Shape              Param #   \n",
            "=================================================================\n",
            "sequential (Sequential)      (None, 30)                81530     \n",
            "_________________________________________________________________\n",
            "sequential_1 (Sequential)    (None, 28, 28)            82284     \n",
            "=================================================================\n",
            "Total params: 163,814\n",
            "Trainable params: 163,814\n",
            "Non-trainable params: 0\n",
            "_________________________________________________________________\n"
          ],
          "name": "stdout"
        }
      ]
    },
    {
      "cell_type": "code",
      "metadata": {
        "id": "gr8AXBYe2cyf"
      },
      "source": [
        "#Load Dataset\n",
        "mnist = tf.keras.datasets.fashion_mnist\n",
        "(training_images, training_labels), (test_images, test_labels) = mnist.load_data()\n",
        "\n",
        "#Scale\n",
        "X_train=training_images / 255.0\n",
        "X_valid=test_images/255.0"
      ],
      "execution_count": 9,
      "outputs": []
    },
    {
      "cell_type": "code",
      "metadata": {
        "colab": {
          "base_uri": "https://localhost:8080/"
        },
        "id": "20qQXzjmI7Xz",
        "outputId": "4b9382cb-8bff-4836-ad75-0bb0733a3980"
      },
      "source": [
        "AE.summary()"
      ],
      "execution_count": 10,
      "outputs": [
        {
          "output_type": "stream",
          "text": [
            "Model: \"sequential_2\"\n",
            "_________________________________________________________________\n",
            "Layer (type)                 Output Shape              Param #   \n",
            "=================================================================\n",
            "sequential (Sequential)      (None, 30)                81530     \n",
            "_________________________________________________________________\n",
            "sequential_1 (Sequential)    (None, 28, 28)            82284     \n",
            "=================================================================\n",
            "Total params: 163,814\n",
            "Trainable params: 163,814\n",
            "Non-trainable params: 0\n",
            "_________________________________________________________________\n"
          ],
          "name": "stdout"
        }
      ]
    },
    {
      "cell_type": "code",
      "metadata": {
        "colab": {
          "base_uri": "https://localhost:8080/"
        },
        "id": "jfYoa2KhJOBT",
        "outputId": "74c4006d-11fd-4dc4-cd4c-62407c67b5f8"
      },
      "source": [
        "history = AE.fit(X_train,X_train,epochs=10,verbose=2,validation_data=(X_valid,X_valid))"
      ],
      "execution_count": 11,
      "outputs": [
        {
          "output_type": "stream",
          "text": [
            "Epoch 1/10\n",
            "1875/1875 - 7s - loss: 0.3147 - val_loss: 0.2935\n",
            "Epoch 2/10\n",
            "1875/1875 - 7s - loss: 0.2874 - val_loss: 0.2867\n",
            "Epoch 3/10\n",
            "1875/1875 - 7s - loss: 0.2825 - val_loss: 0.2831\n",
            "Epoch 4/10\n",
            "1875/1875 - 7s - loss: 0.2798 - val_loss: 0.2808\n",
            "Epoch 5/10\n",
            "1875/1875 - 7s - loss: 0.2780 - val_loss: 0.2794\n",
            "Epoch 6/10\n",
            "1875/1875 - 7s - loss: 0.2768 - val_loss: 0.2786\n",
            "Epoch 7/10\n",
            "1875/1875 - 7s - loss: 0.2759 - val_loss: 0.2780\n",
            "Epoch 8/10\n",
            "1875/1875 - 7s - loss: 0.2753 - val_loss: 0.2774\n",
            "Epoch 9/10\n",
            "1875/1875 - 7s - loss: 0.2748 - val_loss: 0.2768\n",
            "Epoch 10/10\n",
            "1875/1875 - 10s - loss: 0.2744 - val_loss: 0.2764\n"
          ],
          "name": "stdout"
        }
      ]
    },
    {
      "cell_type": "code",
      "metadata": {
        "colab": {
          "base_uri": "https://localhost:8080/",
          "height": 192
        },
        "id": "puYBvAnrJokf",
        "outputId": "0ccecc6f-f2ae-45f8-d97d-b03c21c011ac"
      },
      "source": [
        "show_reconstuctions(AE)"
      ],
      "execution_count": 12,
      "outputs": [
        {
          "output_type": "display_data",
          "data": {
            "image/png": "[encoded data removed]",
            "text/plain": [
              "<Figure size 540x216 with 10 Axes>"
            ]
          },
          "metadata": {
            "tags": [],
            "needs_background": "light"
          }
        }
      ]
    },
    {
      "cell_type": "code",
      "metadata": {
        "id": "oE_gRO2sKPMS"
      },
      "source": [
        ""
      ],
      "execution_count": null,
      "outputs": []
    }
  ]
}