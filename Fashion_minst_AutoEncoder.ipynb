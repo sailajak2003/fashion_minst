{
  "nbformat": 4,
  "nbformat_minor": 0,
  "metadata": {
    "colab": {
      "name": "Fashion_minst_AutoEncoder.ipynb",
      "provenance": [],
      "authorship_tag": "ABX9TyOQ3adCmCQgQ8EWfugG74kx"
    },
    "kernelspec": {
      "name": "python3",
      "display_name": "Python 3"
    }
  },
  "cells": [
    {
      "cell_type": "code",
      "metadata": {
        "id": "VC2GrP5Xp3Ze"
      },
      "source": [
        "import tensorflow as tf\n",
        "import matplotlib.pyplot as plt\n",
        "%matplotlib inline"
      ],
      "execution_count": 1,
      "outputs": []
    },
    {
      "cell_type": "code",
      "metadata": {
        "id": "YZ2idd7CqGiJ"
      },
      "source": [
        "def plot_image(image):\n",
        "  plt.imshow(image,cmap='binary')\n",
        "  plt.axis('off')"
      ],
      "execution_count": 2,
      "outputs": []
    },
    {
      "cell_type": "code",
      "metadata": {
        "id": "Q5SEXcJ_q0O-"
      },
      "source": [
        "def show_reconstuctions(model, n_images=5):\n",
        "  reconstructions = model.predict(X_valid[:n_images])\n",
        "  fig = plt.figure(figsize=(n_images*1.5,3))\n",
        "\n",
        "  for image_index in range(n_images):\n",
        "    #Original Images\n",
        "    plt.subplot(2,n_images,1+image_index)\n",
        "    plot_image(X_valid[image_index])\n",
        "    #Reconstructed Images\n",
        "    plt.subplot(2,n_images,1+n_images+image_index)\n",
        "    plot_image(reconstructions[image_index])"
      ],
      "execution_count": 3,
      "outputs": []
    },
    {
      "cell_type": "code",
      "metadata": {
        "id": "PbqfyGVsrKdT"
      },
      "source": [
        "encoder_stack = tf.keras.models.Sequential([\n",
        "                tf.keras.layers.Flatten(input_shape=[28,28]),\n",
        "                tf.keras.layers.Dense(100,activation='relu'),\n",
        "                tf.keras.layers.Dense(30,activation='relu')\n",
        "             ])"
      ],
      "execution_count": 4,
      "outputs": []
    },
    {
      "cell_type": "code",
      "metadata": {
        "id": "uRO1EkpPrht6"
      },
      "source": [
        "decoder_stack = tf.keras.models.Sequential([\n",
        "                tf.keras.layers.Dense(100,activation='relu',input_shape=[30]),\n",
        "                tf.keras.layers.Dense(28*28,activation='sigmoid'),\n",
        "                tf.keras.layers.Reshape([28,28])\n",
        "             ])"
      ],
      "execution_count": 5,
      "outputs": []
    },
    {
      "cell_type": "code",
      "metadata": {
        "id": "QpNfueadr2eB"
      },
      "source": [
        ""
      ],
      "execution_count": null,
      "outputs": []
    },
    {
      "cell_type": "code",
      "metadata": {
        "id": "TU_LkbYMr2_v"
      },
      "source": [
        ""
      ],
      "execution_count": null,
      "outputs": []
    }
  ]
}