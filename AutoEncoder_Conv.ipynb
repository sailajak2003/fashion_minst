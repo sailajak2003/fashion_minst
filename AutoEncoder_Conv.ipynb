{
  "nbformat": 4,
  "nbformat_minor": 0,
  "metadata": {
    "colab": {
      "name": "AutoEncoder_Conv.ipynb",
      "provenance": [],
      "authorship_tag": "ABX9TyPxmlXDvY1cczPUt4xwMrvX"
    },
    "kernelspec": {
      "name": "python3",
      "display_name": "Python 3"
    }
  },
  "cells": [
    {
      "cell_type": "code",
      "metadata": {
        "id": "IVtBNmeTt16a"
      },
      "source": [
        "import tensorflow as tf\n",
        "import matplotlib.pyplot as plt\n",
        "%matplotlib inline"
      ],
      "execution_count": 1,
      "outputs": []
    },
    {
      "cell_type": "code",
      "metadata": {
        "id": "7UnHnHhYt-Ms"
      },
      "source": [
        "def plot_image(image):\n",
        "  plt.imshow(image,cmap='binary')\n",
        "  plt.axis('off')"
      ],
      "execution_count": 2,
      "outputs": []
    },
    {
      "cell_type": "code",
      "metadata": {
        "id": "NlhTZ0KeuQcE"
      },
      "source": [
        ""
      ],
      "execution_count": null,
      "outputs": []
    }
  ]
}