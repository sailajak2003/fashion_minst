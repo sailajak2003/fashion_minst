{
  "nbformat": 4,
  "nbformat_minor": 0,
  "metadata": {
    "colab": {
      "name": "AutoEncoder_Conv.ipynb",
      "provenance": [],
      "authorship_tag": "ABX9TyNbOhRya9ajViKFclA6O7YG"
    },
    "kernelspec": {
      "name": "python3",
      "display_name": "Python 3"
    }
  },
  "cells": [
    {
      "cell_type": "code",
      "metadata": {
        "id": "IVtBNmeTt16a"
      },
      "source": [
        "import tensorflow as tf\n",
        "import matplotlib.pyplot as plt\n",
        "%matplotlib inline"
      ],
      "execution_count": 1,
      "outputs": []
    },
    {
      "cell_type": "code",
      "metadata": {
        "id": "7UnHnHhYt-Ms"
      },
      "source": [
        "def plot_image(image):\n",
        "  plt.imshow(image,cmap='binary')\n",
        "  plt.axis('off')"
      ],
      "execution_count": 2,
      "outputs": []
    },
    {
      "cell_type": "code",
      "metadata": {
        "id": "NlhTZ0KeuQcE"
      },
      "source": [
        "def show_reconstuctions(model, n_images=5):\n",
        "  reconstructions = model.predict(X_valid[:n_images])\n",
        "  fig = plt.figure(figsize=(n_images*1.5,3))\n",
        "\n",
        "  for image_index in range(n_images):\n",
        "    #Original Images\n",
        "    plt.subplot(2,n_images,1+image_index)\n",
        "    plot_image(X_valid[image_index])\n",
        "    #Reconstructed Images\n",
        "    plt.subplot(2,n_images,1+n_images+image_index)\n",
        "    plot_image(reconstructions[image_index])"
      ],
      "execution_count": 4,
      "outputs": []
    },
    {
      "cell_type": "code",
      "metadata": {
        "id": "DxVEkMaFv_nY"
      },
      "source": [
        "encoder_conv = tf.keras.models.Sequential([\n",
        "                tf.keras.layers.Reshape([28,28,1],input_shape=[28,28]),\n",
        "                tf.keras.layers.Conv2D(filters=16,kernel_size=3,padding='same',activation='relu'),\n",
        "                tf.keras.layers.MaxPool2D(pool_size=2),\n",
        "                tf.keras.layers.Conv2D(filters=32,kernel_size=3,padding='same',activation='relu'),\n",
        "                tf.keras.layers.MaxPool2D(pool_size=2),\n",
        "                tf.keras.layers.Conv2D(filters=64,kernel_size=3,padding='same',activation='relu'),\n",
        "                tf.keras.layers.MaxPool2D(pool_size=2)\n",
        "             ])"
      ],
      "execution_count": 5,
      "outputs": []
    },
    {
      "cell_type": "code",
      "metadata": {
        "id": "57MSXy1yxEBB"
      },
      "source": [
        ""
      ],
      "execution_count": null,
      "outputs": []
    }
  ]
}