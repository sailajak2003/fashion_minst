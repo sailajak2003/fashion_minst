{
  "nbformat": 4,
  "nbformat_minor": 0,
  "metadata": {
    "colab": {
      "name": "AutoEncoder_Conv.ipynb",
      "provenance": [],
      "authorship_tag": "ABX9TyMqUvWcAf4MzFGsEgK16egm"
    },
    "kernelspec": {
      "name": "python3",
      "display_name": "Python 3"
    }
  },
  "cells": [
    {
      "cell_type": "code",
      "metadata": {
        "id": "IVtBNmeTt16a"
      },
      "source": [
        "import tensorflow as tf\n",
        "import matplotlib.pyplot as plt\n",
        "%matplotlib inline"
      ],
      "execution_count": 6,
      "outputs": []
    },
    {
      "cell_type": "code",
      "metadata": {
        "id": "7UnHnHhYt-Ms"
      },
      "source": [
        "def plot_image(image):\n",
        "  plt.imshow(image,cmap='binary')\n",
        "  plt.axis('off')"
      ],
      "execution_count": 7,
      "outputs": []
    },
    {
      "cell_type": "code",
      "metadata": {
        "id": "NlhTZ0KeuQcE"
      },
      "source": [
        "def show_reconstuctions(model, n_images=5):\n",
        "  reconstructions = model.predict(X_valid[:n_images])\n",
        "  fig = plt.figure(figsize=(n_images*1.5,3))\n",
        "\n",
        "  for image_index in range(n_images):\n",
        "    #Original Images\n",
        "    plt.subplot(2,n_images,1+image_index)\n",
        "    plot_image(X_valid[image_index])\n",
        "    #Reconstructed Images\n",
        "    plt.subplot(2,n_images,1+n_images+image_index)\n",
        "    plot_image(reconstructions[image_index])"
      ],
      "execution_count": 8,
      "outputs": []
    },
    {
      "cell_type": "code",
      "metadata": {
        "id": "DxVEkMaFv_nY"
      },
      "source": [
        "encoder_conv = tf.keras.models.Sequential([\n",
        "                tf.keras.layers.Reshape([28,28,1],input_shape=[28,28]),\n",
        "                tf.keras.layers.Conv2D(filters=16,kernel_size=3,padding='same',activation='relu'),\n",
        "                tf.keras.layers.MaxPool2D(pool_size=2),\n",
        "                tf.keras.layers.Conv2D(filters=32,kernel_size=3,padding='same',activation='relu'),\n",
        "                tf.keras.layers.MaxPool2D(pool_size=2),\n",
        "                tf.keras.layers.Conv2D(filters=64,kernel_size=3,padding='same',activation='relu'),\n",
        "                tf.keras.layers.MaxPool2D(pool_size=2)\n",
        "             ])"
      ],
      "execution_count": 9,
      "outputs": []
    },
    {
      "cell_type": "code",
      "metadata": {
        "id": "57MSXy1yxEBB",
        "colab": {
          "base_uri": "https://localhost:8080/"
        },
        "outputId": "49367e6b-02aa-4c59-99a8-fe8c7bb81ba6"
      },
      "source": [
        "encoder_conv.summary()"
      ],
      "execution_count": 10,
      "outputs": [
        {
          "output_type": "stream",
          "text": [
            "Model: \"sequential_1\"\n",
            "_________________________________________________________________\n",
            "Layer (type)                 Output Shape              Param #   \n",
            "=================================================================\n",
            "reshape_1 (Reshape)          (None, 28, 28, 1)         0         \n",
            "_________________________________________________________________\n",
            "conv2d_3 (Conv2D)            (None, 28, 28, 16)        160       \n",
            "_________________________________________________________________\n",
            "max_pooling2d_3 (MaxPooling2 (None, 14, 14, 16)        0         \n",
            "_________________________________________________________________\n",
            "conv2d_4 (Conv2D)            (None, 14, 14, 32)        4640      \n",
            "_________________________________________________________________\n",
            "max_pooling2d_4 (MaxPooling2 (None, 7, 7, 32)          0         \n",
            "_________________________________________________________________\n",
            "conv2d_5 (Conv2D)            (None, 7, 7, 64)          18496     \n",
            "_________________________________________________________________\n",
            "max_pooling2d_5 (MaxPooling2 (None, 3, 3, 64)          0         \n",
            "=================================================================\n",
            "Total params: 23,296\n",
            "Trainable params: 23,296\n",
            "Non-trainable params: 0\n",
            "_________________________________________________________________\n"
          ],
          "name": "stdout"
        }
      ]
    },
    {
      "cell_type": "code",
      "metadata": {
        "id": "4i2j_ULUCz3n"
      },
      "source": [
        ""
      ],
      "execution_count": 10,
      "outputs": []
    },
    {
      "cell_type": "code",
      "metadata": {
        "id": "rP7bo8n6_aTf"
      },
      "source": [
        "decoder_conv = tf.keras.models.Sequential([\n",
        "                  tf.keras.layers.Convolution2DTranspose(filters=32,kernel_size=3,strides=2,padding='valid',activation='relu',input_shape=[3,3,64]),\n",
        "                  tf.keras.layers.Convolution2DTranspose(filters=16,kernel_size=3,strides=2,padding='same',activation='relu'),\n",
        "                  tf.keras.layers.Convolution2DTranspose(filters=1,kernel_size=3,strides=2,padding='same',activation='sigmoid'),\n",
        "                  tf.keras.layers.Reshape([28,28])\n",
        "            ])"
      ],
      "execution_count": 11,
      "outputs": []
    },
    {
      "cell_type": "code",
      "metadata": {
        "colab": {
          "base_uri": "https://localhost:8080/"
        },
        "id": "2a-ScPu1CE5g",
        "outputId": "b799b92d-af03-4296-cb6b-22bcd33aaef6"
      },
      "source": [
        "decoder_conv.summary()"
      ],
      "execution_count": 12,
      "outputs": [
        {
          "output_type": "stream",
          "text": [
            "Model: \"sequential_2\"\n",
            "_________________________________________________________________\n",
            "Layer (type)                 Output Shape              Param #   \n",
            "=================================================================\n",
            "conv2d_transpose (Conv2DTran (None, 7, 7, 32)          18464     \n",
            "_________________________________________________________________\n",
            "conv2d_transpose_1 (Conv2DTr (None, 14, 14, 16)        4624      \n",
            "_________________________________________________________________\n",
            "conv2d_transpose_2 (Conv2DTr (None, 28, 28, 1)         145       \n",
            "_________________________________________________________________\n",
            "reshape_2 (Reshape)          (None, 28, 28)            0         \n",
            "=================================================================\n",
            "Total params: 23,233\n",
            "Trainable params: 23,233\n",
            "Non-trainable params: 0\n",
            "_________________________________________________________________\n"
          ],
          "name": "stdout"
        }
      ]
    },
    {
      "cell_type": "code",
      "metadata": {
        "id": "DLLr_CfZCj5-"
      },
      "source": [
        "AE_Conv = tf.keras.models.Sequential([encoder_conv,decoder_conv])\n",
        "AE_Conv.compile(loss='binary_crossentropy',optimizer='adam')"
      ],
      "execution_count": 13,
      "outputs": []
    },
    {
      "cell_type": "code",
      "metadata": {
        "colab": {
          "base_uri": "https://localhost:8080/"
        },
        "id": "-4xD8x0DDZzs",
        "outputId": "35f02ea8-47da-4cc8-96c8-59cb43d30067"
      },
      "source": [
        "#Load Dataset\n",
        "mnist = tf.keras.datasets.fashion_mnist\n",
        "(training_images, training_labels), (test_images, test_labels) = mnist.load_data()\n",
        "\n",
        "#Scale\n",
        "X_train=training_images / 255.0\n",
        "X_valid=test_images/255.0"
      ],
      "execution_count": 14,
      "outputs": [
        {
          "output_type": "stream",
          "text": [
            "Downloading data from https://storage.googleapis.com/tensorflow/tf-keras-datasets/train-labels-idx1-ubyte.gz\n",
            "32768/29515 [=================================] - 0s 0us/step\n",
            "Downloading data from https://storage.googleapis.com/tensorflow/tf-keras-datasets/train-images-idx3-ubyte.gz\n",
            "26427392/26421880 [==============================] - 0s 0us/step\n",
            "Downloading data from https://storage.googleapis.com/tensorflow/tf-keras-datasets/t10k-labels-idx1-ubyte.gz\n",
            "8192/5148 [===============================================] - 0s 0us/step\n",
            "Downloading data from https://storage.googleapis.com/tensorflow/tf-keras-datasets/t10k-images-idx3-ubyte.gz\n",
            "4423680/4422102 [==============================] - 0s 0us/step\n"
          ],
          "name": "stdout"
        }
      ]
    },
    {
      "cell_type": "code",
      "metadata": {
        "id": "g0BCOplzDmJz",
        "colab": {
          "base_uri": "https://localhost:8080/"
        },
        "outputId": "0ddcde14-5eb8-472d-88ba-c8ea33d8e401"
      },
      "source": [
        "AE_Conv.summary()"
      ],
      "execution_count": 15,
      "outputs": [
        {
          "output_type": "stream",
          "text": [
            "Model: \"sequential_3\"\n",
            "_________________________________________________________________\n",
            "Layer (type)                 Output Shape              Param #   \n",
            "=================================================================\n",
            "sequential_1 (Sequential)    (None, 3, 3, 64)          23296     \n",
            "_________________________________________________________________\n",
            "sequential_2 (Sequential)    (None, 28, 28)            23233     \n",
            "=================================================================\n",
            "Total params: 46,529\n",
            "Trainable params: 46,529\n",
            "Non-trainable params: 0\n",
            "_________________________________________________________________\n"
          ],
          "name": "stdout"
        }
      ]
    },
    {
      "cell_type": "code",
      "metadata": {
        "colab": {
          "base_uri": "https://localhost:8080/"
        },
        "id": "5AIisRUWtrON",
        "outputId": "ea462022-68bb-4028-82a4-cc6d97013540"
      },
      "source": [
        "history = AE_Conv.fit(X_train,X_train,epochs=10,verbose=2,validation_data=(X_valid,X_valid))"
      ],
      "execution_count": 16,
      "outputs": [
        {
          "output_type": "stream",
          "text": [
            "Epoch 1/10\n",
            "1875/1875 - 53s - loss: 0.2989 - val_loss: 0.2776\n",
            "Epoch 2/10\n",
            "1875/1875 - 51s - loss: 0.2715 - val_loss: 0.2706\n",
            "Epoch 3/10\n",
            "1875/1875 - 52s - loss: 0.2669 - val_loss: 0.2676\n",
            "Epoch 4/10\n",
            "1875/1875 - 51s - loss: 0.2645 - val_loss: 0.2658\n",
            "Epoch 5/10\n",
            "1875/1875 - 52s - loss: 0.2630 - val_loss: 0.2643\n",
            "Epoch 6/10\n",
            "1875/1875 - 53s - loss: 0.2619 - val_loss: 0.2635\n",
            "Epoch 7/10\n",
            "1875/1875 - 54s - loss: 0.2611 - val_loss: 0.2629\n",
            "Epoch 8/10\n",
            "1875/1875 - 54s - loss: 0.2604 - val_loss: 0.2622\n",
            "Epoch 9/10\n",
            "1875/1875 - 54s - loss: 0.2599 - val_loss: 0.2615\n",
            "Epoch 10/10\n",
            "1875/1875 - 54s - loss: 0.2594 - val_loss: 0.2614\n"
          ],
          "name": "stdout"
        }
      ]
    },
    {
      "cell_type": "code",
      "metadata": {
        "id": "8E77B3qrt471"
      },
      "source": [
        ""
      ],
      "execution_count": null,
      "outputs": []
    }
  ]
}