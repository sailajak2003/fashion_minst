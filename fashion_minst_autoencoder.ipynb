{
  "nbformat": 4,
  "nbformat_minor": 0,
  "metadata": {
    "colab": {
      "name": "fashion_minst_autoencoder.ipynb",
      "provenance": [],
      "authorship_tag": "ABX9TyPduNPySrlDSoXLsGmmClxu"
    },
    "kernelspec": {
      "name": "python3",
      "display_name": "Python 3"
    }
  },
  "cells": [
    {
      "cell_type": "code",
      "metadata": {
        "id": "xPg95zWaEJD-"
      },
      "source": [
        "import tensorflow as tf\n",
        "import matplotlib.pyplot as plt\n",
        "%matplotlib inline"
      ],
      "execution_count": 1,
      "outputs": []
    },
    {
      "cell_type": "code",
      "metadata": {
        "id": "4yjR2AEgETcK"
      },
      "source": [
        "def plot_image(image):\n",
        "  plt.imshow(image,cmap='binary')\n",
        "  plt.axis('off')"
      ],
      "execution_count": 2,
      "outputs": []
    },
    {
      "cell_type": "code",
      "metadata": {
        "id": "KgHAVoc1ErqA"
      },
      "source": [
        "def show_reconstuctions(model, n_images=5):\n",
        "  reconstructions = model.predict(X_valid[:n_images])\n",
        "  fig = plt.figure(figsize=(n_images*1.5,3))\n",
        "\n",
        "  for image_index in range(n_images):\n",
        "    #Original Images\n",
        "    plt.subplot(2,n_images,1+image_index)\n",
        "    plot_image(X_valid[image_index])\n",
        "    #Reconstructed Images\n",
        "    plt.subplot(2,n_images,1+n_images+image_index)\n",
        "    plot_image(reconstructions[image_index])"
      ],
      "execution_count": 3,
      "outputs": []
    },
    {
      "cell_type": "code",
      "metadata": {
        "id": "mxHaWSONFT9P"
      },
      "source": [
        "encoder_stack = tf.keras.models.Sequential([\n",
        "                tf.keras.layers.Flatten(input_shape=[28,28]),\n",
        "                tf.keras.layers.Dense(100,activation='relu'),\n",
        "                tf.keras.layers.Dense(30,activation='relu')\n",
        "             ])"
      ],
      "execution_count": 4,
      "outputs": []
    },
    {
      "cell_type": "code",
      "metadata": {
        "id": "C8bhPcnnGLC3"
      },
      "source": [
        "decoder_stack = tf.keras.models.Sequential([\n",
        "                tf.keras.layers.Dense(100,activation='relu',input_shape=[30]),\n",
        "                tf.keras.layers.Dense(28*28,activation='sigmoid'),\n",
        "                tf.keras.layers.Reshape([28,28])\n",
        "             ])"
      ],
      "execution_count": 5,
      "outputs": []
    },
    {
      "cell_type": "code",
      "metadata": {
        "id": "aW0W6sugGubY"
      },
      "source": [
        "AE = tf.keras.models.Sequential([encoder_stack,decoder_stack])\n",
        "AE.compile(loss='binary_crossentropy',optimizer='adam')"
      ],
      "execution_count": 6,
      "outputs": []
    },
    {
      "cell_type": "code",
      "metadata": {
        "colab": {
          "base_uri": "https://localhost:8080/"
        },
        "id": "ezkBoSIiDez-",
        "outputId": "eb4d39dc-4217-4425-a8fe-c905c0ead6c9"
      },
      "source": [
        "#Load Dataset\n",
        "mnist = tf.keras.datasets.fashion_mnist\n",
        "(training_images, training_labels), (test_images, test_labels) = mnist.load_data()\n",
        "\n",
        "#Scale\n",
        "X_train=training_images / 255.0\n",
        "X_valid=test_images/255.0"
      ],
      "execution_count": 7,
      "outputs": [
        {
          "output_type": "stream",
          "text": [
            "Downloading data from https://storage.googleapis.com/tensorflow/tf-keras-datasets/train-labels-idx1-ubyte.gz\n",
            "32768/29515 [=================================] - 0s 0us/step\n",
            "Downloading data from https://storage.googleapis.com/tensorflow/tf-keras-datasets/train-images-idx3-ubyte.gz\n",
            "26427392/26421880 [==============================] - 0s 0us/step\n",
            "Downloading data from https://storage.googleapis.com/tensorflow/tf-keras-datasets/t10k-labels-idx1-ubyte.gz\n",
            "8192/5148 [===============================================] - 0s 0us/step\n",
            "Downloading data from https://storage.googleapis.com/tensorflow/tf-keras-datasets/t10k-images-idx3-ubyte.gz\n",
            "4423680/4422102 [==============================] - 0s 0us/step\n"
          ],
          "name": "stdout"
        }
      ]
    },
    {
      "cell_type": "code",
      "metadata": {
        "colab": {
          "base_uri": "https://localhost:8080/"
        },
        "id": "uitXYjsFEtKQ",
        "outputId": "fec62d8d-a30d-44cc-d947-872abacf40be"
      },
      "source": [
        "AE.summary()"
      ],
      "execution_count": 8,
      "outputs": [
        {
          "output_type": "stream",
          "text": [
            "Model: \"sequential_2\"\n",
            "_________________________________________________________________\n",
            "Layer (type)                 Output Shape              Param #   \n",
            "=================================================================\n",
            "sequential (Sequential)      (None, 30)                81530     \n",
            "_________________________________________________________________\n",
            "sequential_1 (Sequential)    (None, 28, 28)            82284     \n",
            "=================================================================\n",
            "Total params: 163,814\n",
            "Trainable params: 163,814\n",
            "Non-trainable params: 0\n",
            "_________________________________________________________________\n"
          ],
          "name": "stdout"
        }
      ]
    },
    {
      "cell_type": "code",
      "metadata": {
        "id": "4dwzr5PJFraX"
      },
      "source": [
        "#Load Dataset\n",
        "mnist = tf.keras.datasets.fashion_mnist\n",
        "(training_images, training_labels), (test_images, test_labels) = mnist.load_data()\n",
        "\n",
        "#Scale\n",
        "X_train=training_images / 255.0\n",
        "X_valid=test_images/255.0"
      ],
      "execution_count": 9,
      "outputs": []
    },
    {
      "cell_type": "code",
      "metadata": {
        "colab": {
          "base_uri": "https://localhost:8080/"
        },
        "id": "AqoxnokwCEfL",
        "outputId": "0184889c-db78-49ae-d84e-0f67c6a89fa4"
      },
      "source": [
        "AE.summary()"
      ],
      "execution_count": 10,
      "outputs": [
        {
          "output_type": "stream",
          "text": [
            "Model: \"sequential_2\"\n",
            "_________________________________________________________________\n",
            "Layer (type)                 Output Shape              Param #   \n",
            "=================================================================\n",
            "sequential (Sequential)      (None, 30)                81530     \n",
            "_________________________________________________________________\n",
            "sequential_1 (Sequential)    (None, 28, 28)            82284     \n",
            "=================================================================\n",
            "Total params: 163,814\n",
            "Trainable params: 163,814\n",
            "Non-trainable params: 0\n",
            "_________________________________________________________________\n"
          ],
          "name": "stdout"
        }
      ]
    },
    {
      "cell_type": "code",
      "metadata": {
        "colab": {
          "base_uri": "https://localhost:8080/"
        },
        "id": "DOsV0NZ7Dm3y",
        "outputId": "3c989bb0-25f9-430b-ef9a-406486c47556"
      },
      "source": [
        "history = AE.fit(X_train,X_train,epochs=10,verbose=2,validation_data=(X_valid,X_valid))"
      ],
      "execution_count": 11,
      "outputs": [
        {
          "output_type": "stream",
          "text": [
            "Epoch 1/10\n",
            "1875/1875 - 7s - loss: 0.3153 - val_loss: 0.2954\n",
            "Epoch 2/10\n",
            "1875/1875 - 6s - loss: 0.2888 - val_loss: 0.2877\n",
            "Epoch 3/10\n",
            "1875/1875 - 6s - loss: 0.2838 - val_loss: 0.2847\n",
            "Epoch 4/10\n",
            "1875/1875 - 6s - loss: 0.2814 - val_loss: 0.2835\n",
            "Epoch 5/10\n",
            "1875/1875 - 6s - loss: 0.2800 - val_loss: 0.2819\n",
            "Epoch 6/10\n",
            "1875/1875 - 6s - loss: 0.2790 - val_loss: 0.2810\n",
            "Epoch 7/10\n",
            "1875/1875 - 6s - loss: 0.2783 - val_loss: 0.2803\n",
            "Epoch 8/10\n",
            "1875/1875 - 6s - loss: 0.2776 - val_loss: 0.2794\n",
            "Epoch 9/10\n",
            "1875/1875 - 6s - loss: 0.2770 - val_loss: 0.2791\n",
            "Epoch 10/10\n",
            "1875/1875 - 6s - loss: 0.2765 - val_loss: 0.2787\n"
          ],
          "name": "stdout"
        }
      ]
    },
    {
      "cell_type": "code",
      "metadata": {
        "colab": {
          "base_uri": "https://localhost:8080/",
          "height": 192
        },
        "id": "HqZXn102D6ZG",
        "outputId": "c3553c32-65a7-4052-8267-1e3bf484fe8a"
      },
      "source": [
        "show_reconstuctions(AE)"
      ],
      "execution_count": 12,
      "outputs": [
        {
          "output_type": "display_data",
          "data": {
            "image/png": "[encoded data removed]",
            "text/plain": [
              "<Figure size 540x216 with 10 Axes>"
            ]
          },
          "metadata": {
            "tags": [],
            "needs_background": "light"
          }
        }
      ]
    },
    {
      "cell_type": "code",
      "metadata": {
        "id": "yvmZ6an5EhuA"
      },
      "source": [
        "encoder_stack_Drop50 = tf.keras.models.Sequential([\n",
        "                tf.keras.layers.Flatten(input_shape=[28,28]),\n",
        "                tf.keras.layers.Dropout(0.5),\n",
        "                tf.keras.layers.Dense(100,activation='relu'),\n",
        "                tf.keras.layers.Dense(30,activation='relu')\n",
        "             ])"
      ],
      "execution_count": 13,
      "outputs": []
    },
    {
      "cell_type": "code",
      "metadata": {
        "id": "L_UYWmQvFzno"
      },
      "source": [
        ""
      ],
      "execution_count": null,
      "outputs": []
    }
  ]
}